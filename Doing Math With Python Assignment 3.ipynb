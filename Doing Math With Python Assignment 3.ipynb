{
 "cells": [
  {
   "cell_type": "code",
   "execution_count": 1,
   "metadata": {},
   "outputs": [
    {
     "name": "stdout",
     "output_type": "stream",
     "text": [
      "I am in a endless loop\n",
      "Do you want to exit? (y) for yesn\n",
      "I am in a endless loop\n",
      "Do you want to exit? (y) for yesy\n"
     ]
    }
   ],
   "source": [
    "'''\n",
    "Run until exit layout\n",
    "'''\n",
    "\n",
    "def fun():\n",
    "    print('I am in a endless loop')\n",
    "    \n",
    "    #if _name_=='_main_':\n",
    "\n",
    "while True:\n",
    "    fun()\n",
    "    answer = input('Do you want to exit? (y) for yes')\n",
    "    if answer == 'y':\n",
    "        break\n",
    "\n",
    "        \n"
   ]
  },
  {
   "cell_type": "code",
   "execution_count": 2,
   "metadata": {},
   "outputs": [
    {
     "name": "stdout",
     "output_type": "stream",
     "text": [
      "Enter a number: 2\n",
      "2.0 x 1 = 2.0\n",
      "2.0 x 2 = 4.0\n",
      "2.0 x 3 = 6.0\n",
      "2.0 x 4 = 8.0\n",
      "2.0 x 5 = 10.0\n",
      "2.0 x 6 = 12.0\n",
      "2.0 x 7 = 14.0\n",
      "2.0 x 8 = 16.0\n",
      "2.0 x 9 = 18.0\n",
      "2.0 x 10 = 20.0\n",
      "Do you want to exit? (y) for yes n\n",
      "Enter a number: 1\n",
      "1.0 x 1 = 1.0\n",
      "1.0 x 2 = 2.0\n",
      "1.0 x 3 = 3.0\n",
      "1.0 x 4 = 4.0\n",
      "1.0 x 5 = 5.0\n",
      "1.0 x 6 = 6.0\n",
      "1.0 x 7 = 7.0\n",
      "1.0 x 8 = 8.0\n",
      "1.0 x 9 = 9.0\n",
      "1.0 x 10 = 10.0\n",
      "Do you want to exit? (y) for yes y\n"
     ]
    }
   ],
   "source": [
    "'''\n",
    "Multiplication table printer with\n",
    "exit power to the user\n",
    "'''\n",
    "\n",
    "def multi_table(a):\n",
    "    \n",
    "    for i in range(1,11):\n",
    "        print('{0} x {1} = {2}'.format(a, i, a*i))\n",
    "        \n",
    "        #if_name_== '_main_':\n",
    "        \n",
    "while True:\n",
    "    a = input('Enter a number: ')\n",
    "    multi_table(float(a))\n",
    "    \n",
    "    answer = input('Do you want to exit? (y) for yes ')\n",
    "    if answer == 'y':\n",
    "        break"
   ]
  }
 ],
 "metadata": {
  "kernelspec": {
   "display_name": "Python 3",
   "language": "python",
   "name": "python3"
  },
  "language_info": {
   "codemirror_mode": {
    "name": "ipython",
    "version": 3
   },
   "file_extension": ".py",
   "mimetype": "text/x-python",
   "name": "python",
   "nbconvert_exporter": "python",
   "pygments_lexer": "ipython3",
   "version": "3.7.4"
  }
 },
 "nbformat": 4,
 "nbformat_minor": 2
}
