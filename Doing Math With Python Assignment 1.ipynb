{
 "cells": [
  {
   "cell_type": "code",
   "execution_count": 54,
   "metadata": {
    "scrolled": true
   },
   "outputs": [
    {
     "name": "stdout",
     "output_type": "stream",
     "text": [
      "9.0 x 1 = 9.0\n",
      "9.0 x 2 = 18.0\n",
      "9.0 x 3 = 27.0\n",
      "9.0 x 4 = 36.0\n",
      "9.0 x 5 = 45.0\n",
      "9.0 x 6 = 54.0\n",
      "9.0 x 7 = 63.0\n",
      "9.0 x 8 = 72.0\n",
      "9.0 x 9 = 81.0\n",
      "9.0 x 10 = 90.0\n",
      "9.0 x 11 = 99.0\n",
      "9.0 x 12 = 108.0\n",
      "9.0 x 13 = 117.0\n",
      "9.0 x 14 = 126.0\n",
      "9.0 x 15 = 135.0\n"
     ]
    }
   ],
   "source": [
    "'''\n",
    "\n",
    "Multiplication table printer\n",
    "'''    \n",
    "\n",
    "def multi_table(a):\n",
    "    \n",
    "    for i in range(1,16):\n",
    "        print('{0} x {1} = {2}'.format(a, i, a*i))\n",
    "        \n",
    "'''        \n",
    "if _name_ == ' _main_ ' :\n",
    "    a = input('Enter a number: ')\n",
    "    multi_table(float(a))\n",
    "'''\n",
    "multi_table(float(9))\n"
   ]
  },
  {
   "cell_type": "code",
   "execution_count": 99,
   "metadata": {
    "scrolled": true
   },
   "outputs": [],
   "source": [
    "import sys\n",
    "def is_even(N):\n",
    "    #check the validity\n",
    "    #of N. Must be an\n",
    "    #integer\n",
    "    if is_integer(N)==False:\n",
    "        print(\"I dont like you\")\n",
    "        sys:exit()\n",
    "    if N%2 == 0:\n",
    "        #N is even\n",
    "        return True\n",
    "    else:\n",
    "        return False\n",
    "    \n",
    "    def test_is_even(N):\n",
    "    \n",
    "        if is_even(N):\n",
    "        #statement is true\n",
    "            print(\"is even\")\n",
    "    \n",
    "        else:\n",
    "            print(\"is odd\")\n",
    "        \n",
    "        for n in range(0,9):\n",
    "            print(N+2,\"\")\n",
    "            N=N+2\n",
    "        "
   ]
  }
 ],
 "metadata": {
  "kernelspec": {
   "display_name": "Python 3",
   "language": "python",
   "name": "python3"
  },
  "language_info": {
   "codemirror_mode": {
    "name": "ipython",
    "version": 3
   },
   "file_extension": ".py",
   "mimetype": "text/x-python",
   "name": "python",
   "nbconvert_exporter": "python",
   "pygments_lexer": "ipython3",
   "version": "3.7.4"
  }
 },
 "nbformat": 4,
 "nbformat_minor": 2
}
