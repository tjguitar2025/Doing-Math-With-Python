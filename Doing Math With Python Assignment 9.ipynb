{
 "cells": [
  {
   "cell_type": "code",
   "execution_count": 9,
   "metadata": {
    "scrolled": true
   },
   "outputs": [
    {
     "name": "stdout",
     "output_type": "stream",
     "text": [
      "10.0 8.04\n",
      "8.0 6.95\n",
      "13.0 7.58\n",
      "9.0 8.81\n",
      "11.0 8.33\n",
      "14.0 9.96\n",
      "6.0 7.24\n",
      "4.0 4.26\n",
      "12.0 10.84\n",
      "7.0 4.82\n",
      "5.0 5.68\n"
     ]
    }
   ],
   "source": [
    "simple_list1 = [10.0, 8.0, 13.0, 9.0, 11.0, 14.0, 6.0, 4.0, 12.0, 7.0, 5.0]\n",
    "simple_list2 = [8.04, 6.95, 7.58, 8.81, 8.33, 9.96, 7.24, 4.26, 10.84, 4.82, 5.68]\n",
    "for x, y in zip(simple_list1, simple_list2):\n",
    "    print(x, y)"
   ]
  },
  {
   "cell_type": "code",
   "execution_count": 24,
   "metadata": {},
   "outputs": [],
   "source": [
    "simple_list3 = [10.0, 8.0, 13.0, 9.0, 11.0, 14.0, 6.0, 4.0, 12.0, 7.0, 5.0]\n",
    "simple_list4 = [8.04, 6.95, 7.58, 8.81, 8.33, 9.96, 7.24, 4.26, 10.84, 4.82, 5.68, 0]"
   ]
  },
  {
   "cell_type": "code",
   "execution_count": 19,
   "metadata": {},
   "outputs": [],
   "source": [
    "def find_corr_x_y(x,y):\n",
    "    lenx = len(x)\n",
    "    leny = len(y)\n",
    "    if lenx != leny:\n",
    "        print(\"Error:Vectors are not the same length\")\n",
    "        return\n",
    "    \n",
    "    n = len(x)\n",
    "    # Find the sum of the products\n",
    "    prod = []\n",
    "    for xi,yi in zip(x,y):\n",
    "        prod.append(xi*yi)\n",
    "\n",
    "    sum_prod_x_y = sum(prod)\n",
    "    sum_x = sum(x)\n",
    "    sum_y = sum(y)\n",
    "    squared_sum_x = sum_x**2\n",
    "    squared_sum_y = sum_y**2\n",
    "\n",
    "    x_square = []\n",
    "    for xi in x:\n",
    "        x_square.append(xi**2)\n",
    "    # Find the sum\n",
    "    x_square_sum = sum(x_square)\n",
    "\n",
    "    y_square=[]\n",
    "    for yi in y:\n",
    "        y_square.append(yi**2)\n",
    "    # Find the sum\n",
    "    y_square_sum = sum(y_square)\n",
    "\n",
    "    # Use formula to calculate correlation\n",
    "    numerator = n*sum_prod_x_y - sum_x*sum_y\n",
    "    denominator_term1 = n*x_square_sum - squared_sum_x\n",
    "    denominator_term2 = n*y_square_sum - squared_sum_y\n",
    "    denominator = (denominator_term1*denominator_term2)**0.5\n",
    "    correlation = numerator/denominator\n",
    "\n",
    "    return correlation"
   ]
  },
  {
   "cell_type": "code",
   "execution_count": 22,
   "metadata": {
    "scrolled": true
   },
   "outputs": [
    {
     "name": "stdout",
     "output_type": "stream",
     "text": [
      "correlation 0.816420516344843\n"
     ]
    }
   ],
   "source": [
    "corr = find_corr_x_y(simple_list1, simple_list2)\n",
    "print(\"correlation\", corr)"
   ]
  },
  {
   "cell_type": "code",
   "execution_count": 25,
   "metadata": {
    "scrolled": true
   },
   "outputs": [
    {
     "name": "stdout",
     "output_type": "stream",
     "text": [
      "Error:Vectors are not the same length\n",
      "correlation None\n"
     ]
    }
   ],
   "source": [
    "corr = find_corr_x_y(simple_list3, simple_list4)\n",
    "print(\"correlation\", corr)"
   ]
  },
  {
   "cell_type": "code",
   "execution_count": 32,
   "metadata": {},
   "outputs": [],
   "source": [
    "filename = \"mydata.txt\"\n",
    "vectorx = [100, 60, 70, 900, 100, 200, 500, 500, 503, 600, 1000, 1200]"
   ]
  },
  {
   "cell_type": "code",
   "execution_count": 34,
   "metadata": {},
   "outputs": [],
   "source": [
    "with open(filename,\"w\") as f:\n",
    "    for n in vectorx:\n",
    "        f.write(str(n) + '\\n')"
   ]
  },
  {
   "cell_type": "code",
   "execution_count": 69,
   "metadata": {},
   "outputs": [
    {
     "data": {
      "text/plain": [
       "[100, 60, 70, 900, 100, 200, 500, 500, 503, 600, 1000, 1200]"
      ]
     },
     "execution_count": 69,
     "metadata": {},
     "output_type": "execute_result"
    }
   ],
   "source": [
    "vector = [] # empty list\n",
    "with open(filename,\"r\") as f:\n",
    "    for n in range(1,13):\n",
    "        vector.append(int(f.readline().strip()))\n",
    "    \n",
    "vector                  "
   ]
  },
  {
   "cell_type": "code",
   "execution_count": 70,
   "metadata": {},
   "outputs": [
    {
     "name": "stdout",
     "output_type": "stream",
     "text": [
      "100\n",
      "\n",
      "60\n",
      "\n",
      "70\n",
      "\n",
      "900\n",
      "\n",
      "100\n",
      "\n",
      "200\n",
      "\n",
      "500\n",
      "\n",
      "500\n",
      "\n",
      "503\n",
      "\n",
      "600\n",
      "\n",
      "1000\n",
      "\n"
     ]
    }
   ],
   "source": [
    "with open(filename,\"r\") as f:\n",
    "    for n in range(1,12):\n",
    "        print(f.readline())"
   ]
  },
  {
   "cell_type": "code",
   "execution_count": 71,
   "metadata": {},
   "outputs": [
    {
     "data": {
      "text/plain": [
       "5733"
      ]
     },
     "execution_count": 71,
     "metadata": {},
     "output_type": "execute_result"
    }
   ],
   "source": [
    "shortlist = [100, 60, 70, 900, 100, 200, 500, 500, 503, 600, 1000, 1200]\n",
    "sum(shortlist)"
   ]
  },
  {
   "cell_type": "code",
   "execution_count": 72,
   "metadata": {},
   "outputs": [
    {
     "data": {
      "text/plain": [
       "12"
      ]
     },
     "execution_count": 72,
     "metadata": {},
     "output_type": "execute_result"
    }
   ],
   "source": [
    "len(shortlist)"
   ]
  },
  {
   "cell_type": "code",
   "execution_count": 87,
   "metadata": {},
   "outputs": [
    {
     "data": {
      "text/plain": [
       "477.75"
      ]
     },
     "execution_count": 87,
     "metadata": {},
     "output_type": "execute_result"
    }
   ],
   "source": [
    "def calculate_mean(shortlist):\n",
    "    s = sum(shortlist)\n",
    "    N = len(shortlist)\n",
    "    # Calculate the mean\n",
    "    mean = s/N\n",
    "    \n",
    "    return mean\n",
    "calculate_mean(shortlist)"
   ]
  },
  {
   "cell_type": "code",
   "execution_count": 88,
   "metadata": {},
   "outputs": [
    {
     "data": {
      "text/plain": [
       "500.0"
      ]
     },
     "execution_count": 88,
     "metadata": {},
     "output_type": "execute_result"
    }
   ],
   "source": [
    "def calculate_median(shortlist):\n",
    "    N = len(shortlist)\n",
    "    shortlist.sort()\n",
    "    \n",
    "    # Find the median\n",
    "    if N % 2 == 0:\n",
    "        # if N is even\n",
    "        m1 = N/2\n",
    "        m2 = (N/2) + 1\n",
    "        # Convert to integer, match position\n",
    "        m1 = int(m1) - 1\n",
    "        m2 = int(m2) - 1\n",
    "        median = (shortlist[m1] + shortlist[m2])/2\n",
    "    else:\n",
    "        m = (N+1)/2\n",
    "        # Convert to integer, match position\n",
    "        m = int(m) - 1\n",
    "        median = numbers[m]\n",
    "        \n",
    "    return median\n",
    "calculate_median(shortlist)"
   ]
  },
  {
   "cell_type": "code",
   "execution_count": 90,
   "metadata": {},
   "outputs": [
    {
     "data": {
      "text/plain": [
       "100"
      ]
     },
     "execution_count": 90,
     "metadata": {},
     "output_type": "execute_result"
    }
   ],
   "source": [
    "from collections import Counter\n",
    "\n",
    "def calculate_mode(shortlist):\n",
    "    c = Counter(shortlist)\n",
    "    mode = c.most_common(1)\n",
    "    return mode[0][0]\n",
    "calculate_mode(shortlist)"
   ]
  },
  {
   "cell_type": "code",
   "execution_count": 92,
   "metadata": {},
   "outputs": [
    {
     "data": {
      "text/plain": [
       "141047.35416666666"
      ]
     },
     "execution_count": 92,
     "metadata": {},
     "output_type": "execute_result"
    }
   ],
   "source": [
    "def calculate_mean(shortlist):\n",
    "    s = sum(shortlist)\n",
    "    N = len(shortlist)\n",
    "    # Calculate the mean\n",
    "    mean = s/N\n",
    "    \n",
    "    return mean\n",
    "\n",
    "def find_differences(shortlist):\n",
    "    # Find the mean\n",
    "    mean = calculate_mean(shortlist)\n",
    "    # Find the differences from the mean\n",
    "    diff = []\n",
    "    for num in shortlist:\n",
    "        diff.append(num-mean)\n",
    "    \n",
    "    return diff\n",
    "\n",
    "def calculate_variance(shortlist):\n",
    "    \n",
    "    # Find the list of differences\n",
    "    diff = find_differences(shortlist)\n",
    "    # Find the squared differences\n",
    "    squared_diff = []\n",
    "    for d in diff:\n",
    "        squared_diff.append(d**2)\n",
    "    # Find the variance\n",
    "    sum_squared_diff = sum(squared_diff)\n",
    "    variance = sum_squared_diff/len(shortlist)\n",
    "    return variance\n",
    "\n",
    "calculate_mean(shortlist)\n",
    "find_differences(shortlist)\n",
    "calculate_variance(shortlist)"
   ]
  }
 ],
 "metadata": {
  "kernelspec": {
   "display_name": "Python 3",
   "language": "python",
   "name": "python3"
  },
  "language_info": {
   "codemirror_mode": {
    "name": "ipython",
    "version": 3
   },
   "file_extension": ".py",
   "mimetype": "text/x-python",
   "name": "python",
   "nbconvert_exporter": "python",
   "pygments_lexer": "ipython3",
   "version": "3.7.4"
  }
 },
 "nbformat": 4,
 "nbformat_minor": 2
}
