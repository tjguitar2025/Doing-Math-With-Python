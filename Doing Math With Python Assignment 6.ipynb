{
 "cells": [
  {
   "cell_type": "code",
   "execution_count": 9,
   "metadata": {},
   "outputs": [
    {
     "name": "stdout",
     "output_type": "stream",
     "text": [
      "30\n"
     ]
    }
   ],
   "source": [
    "N = 5\n",
    "x = 0 \n",
    "for i in range(1 , N+1):\n",
    "    x += 2*i\n",
    "print (x)"
   ]
  },
  {
   "cell_type": "code",
   "execution_count": 11,
   "metadata": {},
   "outputs": [
    {
     "name": "stdout",
     "output_type": "stream",
     "text": [
      "979\n"
     ]
    }
   ],
   "source": [
    "sum = 0\n",
    "for n in range(1 , 6):\n",
    "    sum += n**4\n",
    "print (sum)"
   ]
  },
  {
   "cell_type": "code",
   "execution_count": 12,
   "metadata": {},
   "outputs": [
    {
     "name": "stdout",
     "output_type": "stream",
     "text": [
      "4.95\n"
     ]
    }
   ],
   "source": [
    "sum = 0\n",
    "for k in range(3 , 7):\n",
    "    sum += (k+1)/k\n",
    "print (sum)"
   ]
  },
  {
   "cell_type": "code",
   "execution_count": 16,
   "metadata": {},
   "outputs": [
    {
     "name": "stdout",
     "output_type": "stream",
     "text": [
      "24\n"
     ]
    }
   ],
   "source": [
    "N = 5\n",
    "sum = 0\n",
    "for i in range(2, N+1):\n",
    "    sum += 2*i - 1\n",
    "print (sum)"
   ]
  },
  {
   "cell_type": "code",
   "execution_count": 29,
   "metadata": {},
   "outputs": [
    {
     "name": "stdout",
     "output_type": "stream",
     "text": [
      "2730\n"
     ]
    }
   ],
   "source": [
    "N = 5\n",
    "x = 2\n",
    "sum = 0\n",
    "for k in range(0, N+1):\n",
    "    sum += (2**(k+1))*x**k\n",
    "print (sum)"
   ]
  },
  {
   "cell_type": "code",
   "execution_count": 35,
   "metadata": {},
   "outputs": [
    {
     "name": "stdout",
     "output_type": "stream",
     "text": [
      "7.5\n"
     ]
    }
   ],
   "source": [
    "N = 5\n",
    "x = -1\n",
    "sum = 0\n",
    "for k in range(0, N+1):\n",
    "    sum += (-1**(k)*x**k)/2*k+1\n",
    "print (sum)"
   ]
  },
  {
   "cell_type": "code",
   "execution_count": 36,
   "metadata": {},
   "outputs": [
    {
     "name": "stdout",
     "output_type": "stream",
     "text": [
      "55\n"
     ]
    }
   ],
   "source": [
    "sum = 0\n",
    "for n in range(1, 6):\n",
    "    sum += n**2\n",
    "print (sum)"
   ]
  },
  {
   "cell_type": "code",
   "execution_count": 37,
   "metadata": {},
   "outputs": [
    {
     "name": "stdout",
     "output_type": "stream",
     "text": [
      "-36\n"
     ]
    }
   ],
   "source": [
    "sum = 0\n",
    "for n in range(1, 7):\n",
    "    sum += (-1**(n+1))*2*n+1\n",
    "print (sum)"
   ]
  },
  {
   "cell_type": "code",
   "execution_count": 38,
   "metadata": {},
   "outputs": [
    {
     "name": "stdout",
     "output_type": "stream",
     "text": [
      "0.9873376623376623\n"
     ]
    }
   ],
   "source": [
    "sum = 0\n",
    "for n in range(1, 6):\n",
    "    sum += 1/(3*n-1)\n",
    "print (sum)"
   ]
  },
  {
   "cell_type": "code",
   "execution_count": 40,
   "metadata": {},
   "outputs": [
    {
     "name": "stdout",
     "output_type": "stream",
     "text": [
      "3.9071428571428575\n"
     ]
    }
   ],
   "source": [
    "sum = 0\n",
    "N = 5\n",
    "for n in range(1, N+1):\n",
    "    sum += (n+1)/(n+2)\n",
    "print (sum)"
   ]
  },
  {
   "cell_type": "code",
   "execution_count": 41,
   "metadata": {},
   "outputs": [
    {
     "name": "stdout",
     "output_type": "stream",
     "text": [
      "-6\n"
     ]
    }
   ],
   "source": [
    "sum = 0\n",
    "N = 2\n",
    "for k in range(1, N+1):\n",
    "    sum += (-1**(k+1))*2**k\n",
    "print (sum)"
   ]
  },
  {
   "cell_type": "code",
   "execution_count": 42,
   "metadata": {},
   "outputs": [
    {
     "name": "stdout",
     "output_type": "stream",
     "text": [
      "176414\n"
     ]
    }
   ],
   "source": [
    "sum = 0\n",
    "x = 2\n",
    "for n in range(1, 15):\n",
    "    sum += (2*n*x)**2*n+1\n",
    "print (sum)"
   ]
  },
  {
   "cell_type": "code",
   "execution_count": 47,
   "metadata": {},
   "outputs": [
    {
     "name": "stdout",
     "output_type": "stream",
     "text": [
      "24.333333333333332\n"
     ]
    }
   ],
   "source": [
    "import math \n",
    "sum = 0\n",
    "x = 2\n",
    "for n in range(1, 5):\n",
    "    sum += (x**(2*n))/((2*n)*math.factorial(x))\n",
    "print (sum)"
   ]
  }
 ],
 "metadata": {
  "kernelspec": {
   "display_name": "Python 3",
   "language": "python",
   "name": "python3"
  },
  "language_info": {
   "codemirror_mode": {
    "name": "ipython",
    "version": 3
   },
   "file_extension": ".py",
   "mimetype": "text/x-python",
   "name": "python",
   "nbconvert_exporter": "python",
   "pygments_lexer": "ipython3",
   "version": "3.7.4"
  }
 },
 "nbformat": 4,
 "nbformat_minor": 2
}
