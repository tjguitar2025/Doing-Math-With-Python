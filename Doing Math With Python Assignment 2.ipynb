{
 "cells": [
  {
   "cell_type": "code",
   "execution_count": 2,
   "metadata": {},
   "outputs": [
    {
     "name": "stdout",
     "output_type": "stream",
     "text": [
      "1. Kilograms to Pounds\n",
      "2. Pounds to Kilograms\n",
      "Which coversion would you like to do?: 2\n",
      "Enter weight in pounds2\n",
      "Weight in kilograms: 4.40924524\n"
     ]
    }
   ],
   "source": [
    "'''\n",
    "Unit converter: Kilograms and Pounds\n",
    "'''\n",
    "\n",
    "def print_menu():\n",
    "    print('1. Kilograms to Pounds')\n",
    "    print('2. Pounds to Kilograms')\n",
    "\n",
    "def kg_pounds():\n",
    "    kg = float(input('Enter weight in kilograms'))\n",
    "    \n",
    "    pounds = kg / 0.45359237\n",
    "    \n",
    "    print('Weight in pounds: {0}'.format(pounds))\n",
    "\n",
    "def pounds_kg():\n",
    "    pounds = float(input('Enter weight in pounds'))\n",
    "    \n",
    "    kg = pounds *  2.20462262\n",
    "    \n",
    "    print('Weight in kilograms: {0}'.format(kg))\n",
    "    \n",
    "#if _name_ == '_main_':\n",
    "print_menu()\n",
    "choice = input('Which coversion would you like to do?: ')\n",
    "if choice == '1':\n",
    "    kg_pounds()\n",
    "\n",
    "if choice == '2':\n",
    "    pounds_kg()"
   ]
  },
  {
   "cell_type": "code",
   "execution_count": 10,
   "metadata": {
    "scrolled": true
   },
   "outputs": [
    {
     "name": "stdout",
     "output_type": "stream",
     "text": [
      "Enter first fraction:9/16\n",
      "Enter second fraction:7/16\n",
      "Operation to perform - Add, Subtract, Divide, Multiply:Divide\n",
      "Result of Multiplication: 9/7\n"
     ]
    }
   ],
   "source": [
    "'''\n",
    "Fraction operations\n",
    "'''\n",
    "from fractions import Fraction\n",
    "\n",
    "def add(a,b):\n",
    "    print('Result of Addition: {0}'.format(a+b))\n",
    "    \n",
    "def substract(a,b):\n",
    "    print('Result of Substraction: {0}'.format(a-b))\n",
    "    \n",
    "def divide(a,b):\n",
    "    print('Result of Multiplication: {0}'.format(a/b))\n",
    "    \n",
    "def multiply(a,b):\n",
    "    print('Result of Division: {0}'.format(a*b))\n",
    "    \n",
    "#if _name_ == '_main_':\n",
    "a = Fraction(input('Enter first fraction:'))\n",
    "b = Fraction(input('Enter second fraction:'))\n",
    "op = input('Operation to perform - Add, Subtract, Divide, Multiply:')\n",
    "if op == 'Add':\n",
    "    add(a,b)\n",
    "\n",
    "if op == 'Substract':\n",
    "    substract(a,b)\n",
    "    \n",
    "if op == 'Divide':\n",
    "    divide(a,b)\n",
    "    \n",
    "if op == 'Multiply':\n",
    "    multiply(a,b)"
   ]
  },
  {
   "cell_type": "code",
   "execution_count": null,
   "metadata": {},
   "outputs": [],
   "source": []
  },
  {
   "cell_type": "code",
   "execution_count": null,
   "metadata": {},
   "outputs": [],
   "source": []
  }
 ],
 "metadata": {
  "kernelspec": {
   "display_name": "Python 3",
   "language": "python",
   "name": "python3"
  },
  "language_info": {
   "codemirror_mode": {
    "name": "ipython",
    "version": 3
   },
   "file_extension": ".py",
   "mimetype": "text/x-python",
   "name": "python",
   "nbconvert_exporter": "python",
   "pygments_lexer": "ipython3",
   "version": "3.7.4"
  }
 },
 "nbformat": 4,
 "nbformat_minor": 2
}
