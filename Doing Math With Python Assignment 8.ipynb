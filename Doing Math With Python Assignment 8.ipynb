{
 "cells": [
  {
   "cell_type": "code",
   "execution_count": 2,
   "metadata": {},
   "outputs": [],
   "source": [
    "# import sympy \n",
    "from sympy import *"
   ]
  },
  {
   "cell_type": "code",
   "execution_count": null,
   "metadata": {},
   "outputs": [],
   "source": []
  },
  {
   "cell_type": "code",
   "execution_count": 10,
   "metadata": {},
   "outputs": [
    {
     "data": {
      "text/latex": [
       "$\\displaystyle \\left[\\begin{matrix}1 & 2 & -1 & 0\\\\2 & -2 & 3 & 0\\\\3 & 1 & 2 & 0\\end{matrix}\\right]$"
      ],
      "text/plain": [
       "Matrix([\n",
       "[1,  2, -1, 0],\n",
       "[2, -2,  3, 0],\n",
       "[3,  1,  2, 0]])"
      ]
     },
     "execution_count": 10,
     "metadata": {},
     "output_type": "execute_result"
    }
   ],
   "source": [
    "#1\n",
    "A = Matrix([[1, 2, -1, 0], [2,-2,3,0], [3, 1, 2, 0]])\n",
    "A"
   ]
  },
  {
   "cell_type": "code",
   "execution_count": 11,
   "metadata": {},
   "outputs": [
    {
     "data": {
      "text/plain": [
       "(Matrix([\n",
       " [1, 0, 0, 0],\n",
       " [0, 1, 0, 0],\n",
       " [0, 0, 1, 0]]), (0, 1, 2))"
      ]
     },
     "execution_count": 11,
     "metadata": {},
     "output_type": "execute_result"
    }
   ],
   "source": [
    "A.rref()"
   ]
  },
  {
   "cell_type": "code",
   "execution_count": 3,
   "metadata": {},
   "outputs": [],
   "source": [
    "# import sympy\n",
    "from sympy import *"
   ]
  },
  {
   "cell_type": "code",
   "execution_count": 4,
   "metadata": {},
   "outputs": [
    {
     "data": {
      "text/latex": [
       "$\\displaystyle \\left[\\begin{matrix}1 & 2 & 3 & 4\\\\4 & 5 & 6 & 16\\\\7 & 8 & 9 & 28\\end{matrix}\\right]$"
      ],
      "text/plain": [
       "Matrix([\n",
       "[1, 2, 3,  4],\n",
       "[4, 5, 6, 16],\n",
       "[7, 8, 9, 28]])"
      ]
     },
     "execution_count": 4,
     "metadata": {},
     "output_type": "execute_result"
    }
   ],
   "source": [
    "#2\n",
    "A = Matrix([[1, 2, 3, 4], [4, 5, 6, 16], [7, 8, 9, 28]])\n",
    "A"
   ]
  },
  {
   "cell_type": "code",
   "execution_count": 6,
   "metadata": {},
   "outputs": [
    {
     "data": {
      "text/plain": [
       "(Matrix([\n",
       " [1, 0, -1, 4],\n",
       " [0, 1,  2, 0],\n",
       " [0, 0,  0, 0]]), (0, 1))"
      ]
     },
     "execution_count": 6,
     "metadata": {},
     "output_type": "execute_result"
    }
   ],
   "source": [
    "A.rref()"
   ]
  },
  {
   "cell_type": "code",
   "execution_count": 7,
   "metadata": {},
   "outputs": [],
   "source": [
    "# import sympy\n",
    "from sympy import *"
   ]
  },
  {
   "cell_type": "code",
   "execution_count": 9,
   "metadata": {},
   "outputs": [
    {
     "data": {
      "text/latex": [
       "$\\displaystyle \\left[\\begin{matrix}2 & -1 & 4 & 6\\\\1 & 3 & 3 & -7\\\\-1 & 2 & 0 & -12\\end{matrix}\\right]$"
      ],
      "text/plain": [
       "Matrix([\n",
       "[ 2, -1, 4,   6],\n",
       "[ 1,  3, 3,  -7],\n",
       "[-1,  2, 0, -12]])"
      ]
     },
     "execution_count": 9,
     "metadata": {},
     "output_type": "execute_result"
    }
   ],
   "source": [
    "#3\n",
    "A = Matrix([[2, -1, 4, 6], [1, 3, 3, -7], [-1, 2, 0, -12]])\n",
    "A"
   ]
  },
  {
   "cell_type": "code",
   "execution_count": 10,
   "metadata": {},
   "outputs": [
    {
     "data": {
      "text/plain": [
       "(Matrix([\n",
       " [1, 0, 0,  8],\n",
       " [0, 1, 0, -2],\n",
       " [0, 0, 1, -3]]), (0, 1, 2))"
      ]
     },
     "execution_count": 10,
     "metadata": {},
     "output_type": "execute_result"
    }
   ],
   "source": [
    "A.rref()"
   ]
  },
  {
   "cell_type": "code",
   "execution_count": 11,
   "metadata": {},
   "outputs": [],
   "source": [
    "# import sympy\n",
    "from sympy import *"
   ]
  },
  {
   "cell_type": "code",
   "execution_count": 14,
   "metadata": {},
   "outputs": [
    {
     "data": {
      "text/latex": [
       "$\\displaystyle \\left[\\begin{matrix}1 & 2 & 3 & 4 & 8\\\\2 & -2 & -1 & 1 & -3\\\\1 & -3 & 4 & -4 & 8\\\\2 & 2 & -3 & 4 & 2\\end{matrix}\\right]$"
      ],
      "text/plain": [
       "Matrix([\n",
       "[1,  2,  3,  4,  8],\n",
       "[2, -2, -1,  1, -3],\n",
       "[1, -3,  4, -4,  8],\n",
       "[2,  2, -3,  4,  2]])"
      ]
     },
     "execution_count": 14,
     "metadata": {},
     "output_type": "execute_result"
    }
   ],
   "source": [
    "#4\n",
    "A = Matrix([[1, 2, 3, 4, 8], [2, -2, -1, 1, -3], [1, -3, 4, -4, 8], [2, 2, -3, 4, 2]])\n",
    "A"
   ]
  },
  {
   "cell_type": "code",
   "execution_count": 15,
   "metadata": {},
   "outputs": [
    {
     "data": {
      "text/plain": [
       "(Matrix([\n",
       " [1, 0, 0, 0,  618/155],\n",
       " [0, 1, 0, 0,  562/155],\n",
       " [0, 0, 1, 0,  258/155],\n",
       " [0, 0, 0, 1, -319/155]]), (0, 1, 2, 3))"
      ]
     },
     "execution_count": 15,
     "metadata": {},
     "output_type": "execute_result"
    }
   ],
   "source": [
    "A.rref()"
   ]
  },
  {
   "cell_type": "code",
   "execution_count": 16,
   "metadata": {},
   "outputs": [],
   "source": [
    "# import sympy\n",
    "from sympy import *"
   ]
  },
  {
   "cell_type": "code",
   "execution_count": 17,
   "metadata": {},
   "outputs": [
    {
     "data": {
      "text/latex": [
       "$\\displaystyle \\left[\\begin{matrix}0.5 & 0.333333333333333 & 0.25 & 0.2 & 10\\\\0.333333333333333 & 0.25 & 0.2 & 0.166666666666667 & 11\\\\0.25 & 0.2 & 0.166666666666667 & 0.142857142857143 & 12\\\\0.2 & 0.166666666666667 & 0.142857142857143 & 0.125 & 13\\end{matrix}\\right]$"
      ],
      "text/plain": [
       "Matrix([\n",
       "[              0.5, 0.333333333333333,              0.25,               0.2, 10],\n",
       "[0.333333333333333,              0.25,               0.2, 0.166666666666667, 11],\n",
       "[             0.25,               0.2, 0.166666666666667, 0.142857142857143, 12],\n",
       "[              0.2, 0.166666666666667, 0.142857142857143,             0.125, 13]])"
      ]
     },
     "execution_count": 17,
     "metadata": {},
     "output_type": "execute_result"
    }
   ],
   "source": [
    "#5\n",
    "A = Matrix([[1/2, 1/3, 1/4, 1/5, 10], [1/3, 1/4, 1/5, 1/6, 11], [1/4, 1/5, 1/6, 1/7, 12], [1/5, 1/6, 1/7, 1/8, 13]])\n",
    "A"
   ]
  },
  {
   "cell_type": "code",
   "execution_count": 18,
   "metadata": {},
   "outputs": [
    {
     "data": {
      "text/plain": [
       "(Matrix([\n",
       " [1, 0, 0, 0, -560.000000000438],\n",
       " [0, 1, 0, 0,  4860.00000000302],\n",
       " [0, 0, 1, 0, -10920.0000000057],\n",
       " [0, 0, 0, 1,   7000.0000000032]]), (0, 1, 2, 3))"
      ]
     },
     "execution_count": 18,
     "metadata": {},
     "output_type": "execute_result"
    }
   ],
   "source": [
    "A.rref()"
   ]
  },
  {
   "cell_type": "code",
   "execution_count": 19,
   "metadata": {},
   "outputs": [],
   "source": [
    "# import sympy\n",
    "from sympy import *"
   ]
  },
  {
   "cell_type": "code",
   "execution_count": 21,
   "metadata": {},
   "outputs": [
    {
     "data": {
      "text/latex": [
       "$\\displaystyle \\left[\\begin{matrix}1.0001 & 2 & 3 & 4 & 5\\\\1 & 2.0001 & 3 & 4 & 6\\\\1 & 2 & 3.0001 & 4 & 7\\\\1 & 2 & 3 & 4.0001 & 8\\end{matrix}\\right]$"
      ],
      "text/plain": [
       "Matrix([\n",
       "[1.0001,      2,      3,      4, 5],\n",
       "[     1, 2.0001,      3,      4, 6],\n",
       "[     1,      2, 3.0001,      4, 7],\n",
       "[     1,      2,      3, 4.0001, 8]])"
      ]
     },
     "execution_count": 21,
     "metadata": {},
     "output_type": "execute_result"
    }
   ],
   "source": [
    "#6\n",
    "A = Matrix([[1.0001, 2, 3, 4, 5], [1, 2.0001, 3, 4, 6], [1, 2, 3.0001, 4, 7], [1, 2, 3, 4.0001, 8]])\n",
    "A"
   ]
  },
  {
   "cell_type": "code",
   "execution_count": 22,
   "metadata": {},
   "outputs": [
    {
     "data": {
      "text/plain": [
       "(Matrix([\n",
       " [1, 0, 0, 0, -19999.3000070167],\n",
       " [0, 1, 0, 0, -9999.30000699944],\n",
       " [0, 0, 1, 0, 0.699992985530837],\n",
       " [0, 0, 0, 1,  10000.6999930149]]), (0, 1, 2, 3))"
      ]
     },
     "execution_count": 22,
     "metadata": {},
     "output_type": "execute_result"
    }
   ],
   "source": [
    "A.rref()"
   ]
  },
  {
   "cell_type": "code",
   "execution_count": 23,
   "metadata": {},
   "outputs": [],
   "source": [
    "# import sympy\n",
    "from sympy import *"
   ]
  },
  {
   "cell_type": "code",
   "execution_count": 24,
   "metadata": {},
   "outputs": [
    {
     "data": {
      "text/latex": [
       "$\\displaystyle \\left[\\begin{matrix}1.0 \\cdot 10^{-5} & 1 & 1.0 \\cdot 10^{-5} & 2.0 \\cdot 10^{-5}\\\\1 & 2 & 1 & 1\\\\1.0 \\cdot 10^{-5} & 1 & -1.0 \\cdot 10^{-5} & 1.0 \\cdot 10^{-5}\\end{matrix}\\right]$"
      ],
      "text/plain": [
       "Matrix([\n",
       "[1.0e-5, 1,  1.0e-5, 2.0e-5],\n",
       "[     1, 2,       1,      1],\n",
       "[1.0e-5, 1, -1.0e-5, 1.0e-5]])"
      ]
     },
     "execution_count": 24,
     "metadata": {},
     "output_type": "execute_result"
    }
   ],
   "source": [
    "A = Matrix([[0.00001, 1, 0.00001, 0.00002], [1, 2, 1, 1], [0.00001, 1, -0.00001, 0.00001]])\n",
    "A"
   ]
  },
  {
   "cell_type": "code",
   "execution_count": 25,
   "metadata": {},
   "outputs": [
    {
     "data": {
      "text/plain": [
       "(Matrix([\n",
       " [1, 0, 0,   0.499979999599992],\n",
       " [0, 1, 0, 1.00002000040001e-5],\n",
       " [0, 0, 1,                 0.5]]), (0, 1, 2))"
      ]
     },
     "execution_count": 25,
     "metadata": {},
     "output_type": "execute_result"
    }
   ],
   "source": [
    "A.rref()"
   ]
  }
 ],
 "metadata": {
  "kernelspec": {
   "display_name": "Python 3",
   "language": "python",
   "name": "python3"
  },
  "language_info": {
   "codemirror_mode": {
    "name": "ipython",
    "version": 3
   },
   "file_extension": ".py",
   "mimetype": "text/x-python",
   "name": "python",
   "nbconvert_exporter": "python",
   "pygments_lexer": "ipython3",
   "version": "3.7.4"
  }
 },
 "nbformat": 4,
 "nbformat_minor": 2
}
